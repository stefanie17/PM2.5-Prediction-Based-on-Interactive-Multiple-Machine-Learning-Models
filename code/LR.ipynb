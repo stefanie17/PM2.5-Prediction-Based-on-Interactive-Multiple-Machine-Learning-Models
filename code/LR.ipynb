{
 "cells": [
  {
   "cell_type": "markdown",
   "metadata": {},
   "source": [
    "# Logistic Regression"
   ]
  },
  {
   "cell_type": "code",
   "execution_count": null,
   "metadata": {
    "collapsed": true
   },
   "outputs": [],
   "source": [
    "import numpy as np\n",
    "import pandas as pd\n",
    "import matplotlib.pyplot as plt\n",
    "from sklearn import datasets, metrics\n",
    "from sklearn import preprocessing\n",
    "from sklearn.model_selection import train_test_split\n",
    "from sklearn.tree import DecisionTreeClassifier\n",
    "from sklearn.ensemble import RandomForestClassifier\n",
    "from sklearn.metrics import accuracy_score\n",
    "from sklearn.model_selection import cross_val_score\n",
    "from sklearn.model_selection import cross_val_predict\n",
    "from sklearn.linear_model import LogisticRegression\n",
    "from sklearn.preprocessing import StandardScaler\n",
    "\n",
    "\n",
    "# import data\n",
    "df_beijing = pd.read_csv('data/Beijing.csv', delimiter= \",\",header=0)\n",
    "dataset = df_beijing.as_matrix()\n",
    "\n",
    "#split data and output of training and testing data \n",
    "def data_split(dataset, n, a):\n",
    "    dataset_train, dataset_test = train_test_split(dataset, test_size = a, random_state=n)\n",
    "    X_train = dataset_train[:,1:14]\n",
    "    y_train = dataset_train[:,15]\n",
    "    X_test = dataset_test[:,1:14]\n",
    "    y_test = dataset_test[:,15]\n",
    "    scaler = StandardScaler()\n",
    "    X_train = scaler.fit_transform(X_train)\n",
    "    X_test = scaler.fit_transform(X_test)\n",
    "    return (dataset_train, dataset_test, X_train, y_train, X_test, y_test)\n",
    "\n",
    "#Logistic regression function and get accurary score and classification_report\n",
    "#output is y_test and y_predictions\n",
    "def pre_test(X_train, y_train, X_test, y_test):\n",
    "    model = LogisticRegression(C=1e100)\n",
    "    trained_model_rf = model.fit(X_train, y_train)\n",
    "    predictions = trained_model_rf.predict(X_test)\n",
    "    print('Test accuracy is \\n',accuracy_score(y_test, predictions))\n",
    "    print(metrics.classification_report(y_test, predictions))\n",
    "    return (y_test, predictions)\n"
   ]
  },
  {
   "cell_type": "code",
   "execution_count": null,
   "metadata": {},
   "outputs": [
    {
     "name": "stdout",
     "output_type": "stream",
     "text": [
      "************************************batch 1*****************************************\n"
     ]
    }
   ],
   "source": [
    "#development to improve accuracy \n",
    "#function to find index for the samples which are different between y_test value and y_predictions value\n",
    "def find_num(y_test, pred, dataset_num):\n",
    "    num = []\n",
    "    for i in range(len(y_test)):\n",
    "        if y_test[i] != pred[i]:\n",
    "            num.append(dataset_num[i])\n",
    "    return num\n",
    "\n",
    "#function to find intersections index for different batches\n",
    "def comp_num(a, b):\n",
    "    c = []\n",
    "    for i in range(len(a)):\n",
    "        for j in range(len(b)):\n",
    "            if b[j] == a[i]:\n",
    "                c.append(b[j])\n",
    "    return c\n",
    "\n",
    "#function to delete the samples which show wrong predictions in all batches\n",
    "def new_m(dataset, list):\n",
    "    for i in range(len(list)):\n",
    "        temp = list[i]\n",
    "        dataset = np.delete(dataset, temp, 0)\n",
    "    return (dataset)\n",
    "\n",
    "\n",
    "#batch 1\n",
    "print(\"************************************batch 1*****************************************\")\n",
    "dataset_train1, dataset_test1, X_train1, y_train1, X_test1, y_test1 = data_split(dataset, 0, 0.3)\n",
    "y_test1, predictions1 = pre_test(X_train1, y_train1, X_test1, y_test1)\n",
    "dataset_num1 = dataset_test1[:,0]\n",
    "num1 = find_num(y_test1, predictions1, dataset_num1)\n",
    "print(\"The number of error of predictions in batch 1 is: \", len(num1))\n",
    "\n",
    "#batch 2\n",
    "print(\"************************************batch 2*****************************************\")\n",
    "dataset_train2, dataset_test2, X_train2, y_train2, X_test2, y_test2 = data_split(dataset, 1, 0.3)\n",
    "y_test2, predictions2 = pre_test(X_train2, y_train2, X_test2, y_test2)\n",
    "dataset_num2 = dataset_test2[:,0]\n",
    "num2 = find_num(y_test2, predictions2, dataset_num2)\n",
    "print(\"The number of error of predictions in batch 2 is: \", len(num2))\n",
    "\n",
    "#batch 3\n",
    "print(\"************************************batch 3*****************************************\")\n",
    "dataset_train3, dataset_test3, X_train3, y_train3, X_test3, y_test3 = data_split(dataset, 2, 0.3)\n",
    "y_test3, predictions3 = pre_test(X_train3, y_train3, X_test3, y_test3)\n",
    "dataset_num3 = dataset_test3[:,0]\n",
    "num3 = find_num(y_test3, predictions3, dataset_num3)\n",
    "print(\"The number of error of predictions in batch 3 is: \", len(num3))\n",
    "\n",
    "# #batch 4\n",
    "# dataset_train4, dataset_test4, X_train4, y_train4, X_test4, y_test4 = data_split(dataset, 3)\n",
    "# y_test3, predictions4 = pre_test(X_train4, y_train4, X_test4, y_test4)\n",
    "# dataset_num4 = dataset_test4[:,0]\n",
    "# num4 = find_num(y_test3, predictions4, dataset_num4)\n",
    "# print(len(num4))\n",
    "\n",
    "\n",
    "out1 = comp_num(num1, num2)\n",
    "out2 = comp_num(out1, num3)\n",
    "# out3 = comp_num(out2, num4)\n",
    "print(\"The number of error of predictions in three batch is: \", len(out2))\n",
    "\n",
    "print(\"************************************new dataset*****************************************\")\n",
    "print(dataset.shape)      \n",
    "dataset_new = new_m(dataset, out2)\n",
    "print(dataset_new.shape)\n",
    "\n",
    "dataset_train, dataset_test, X_train, y_train, X_test, y_test = data_split(dataset_new, 0, 0.2)\n",
    "y_test, predictions = pre_test(X_train, y_train, X_test, y_test)"
   ]
  }
 ],
 "metadata": {
  "kernelspec": {
   "display_name": "Python 3",
   "language": "python",
   "name": "python3"
  },
  "language_info": {
   "codemirror_mode": {
    "name": "ipython",
    "version": 3
   },
   "file_extension": ".py",
   "mimetype": "text/x-python",
   "name": "python",
   "nbconvert_exporter": "python",
   "pygments_lexer": "ipython3",
   "version": "3.7.3"
  }
 },
 "nbformat": 4,
 "nbformat_minor": 2
}
