{
 "cells": [
  {
   "cell_type": "markdown",
   "metadata": {},
   "source": [
    "# Stacking"
   ]
  },
  {
   "cell_type": "code",
   "execution_count": 79,
   "metadata": {},
   "outputs": [],
   "source": [
    "import os\n",
    "import numpy as np\n",
    "import pandas as pd\n",
    "from sklearn.model_selection import StratifiedKFold\n",
    "from sklearn.ensemble import RandomForestClassifier\n",
    "from sklearn.tree import DecisionTreeClassifier\n",
    "from sklearn.linear_model import LogisticRegression\n",
    "from xgboost import XGBClassifier\n",
    "from sklearn.model_selection import train_test_split\n",
    "from sklearn.metrics import accuracy_score\n",
    "from sklearn import datasets, metrics\n",
    "from sklearn.model_selection import cross_val_score\n",
    "from sklearn.model_selection import cross_val_predict\n",
    "from sklearn.linear_model import Lasso"
   ]
  },
  {
   "cell_type": "code",
   "execution_count": 80,
   "metadata": {
    "collapsed": true
   },
   "outputs": [],
   "source": [
    "# import data\n",
    "df_beijing = pd.read_csv('data/beijing.csv', delimiter= \",\",header=0)\n",
    "dataset = df_beijing.as_matrix()\n",
    "\n",
    "def data_split(dataset, n, a):\n",
    "    dataset_train, dataset_test = train_test_split(dataset, test_size = a, random_state=n)\n",
    "    X_train = dataset_train[:,1:13]\n",
    "    y_train = dataset_train[:,15]\n",
    "    X_test = dataset_test[:,1:13]\n",
    "    y_test = dataset_test[:,15]\n",
    "    return (dataset_train, dataset_test, X_train, y_train, X_test, y_test)\n",
    "\n",
    "dataset_train, dataset_test, X_train, y_train, X_test, y_test = data_split(dataset, 0, 0.3)\n",
    "np.savetxt(\"y_test.csv\", y_test, delimiter=',', fmt='%d')\n"
   ]
  },
  {
   "cell_type": "code",
   "execution_count": 81,
   "metadata": {
    "collapsed": true
   },
   "outputs": [],
   "source": [
    "#output stack file \n",
    "class stack_model(object):\n",
    "    def __init__(self, model, n_splits=5):\n",
    "        self.n_splits = n_splits\n",
    "        self.model = model\n",
    "\n",
    "    def fit_predict(self, trainX, trainy, testX):\n",
    "\n",
    "        self.stackTrain = np.zeros(len(trainX))\n",
    "        self.stackTest = np.zeros(len(testX))\n",
    "\n",
    "        skf = StratifiedKFold(n_splits=self.n_splits, shuffle=True, random_state=44)\n",
    "\n",
    "        for train_index, test_index in skf.split(trainX, trainy):\n",
    "            X_train, X_test = trainX[train_index], trainX[test_index]\n",
    "            y_train, y_test = trainy[train_index], trainy[test_index]\n",
    "\n",
    "            self.model.fit(X_train, y_train)\n",
    "            y_pred = self.model.predict_proba(X_test)[:,1]\n",
    "            self.stackTrain[test_index] = y_pred\n",
    "            self.stackTest += self.model.predict_proba(testX)[:,1]\n",
    "        \n",
    "        self.stackTest /= self.n_splits\n",
    "            \n",
    "    def output(self,train_file_name='stack_train.csv',\n",
    "                    test_file_name='stack_test.csv',\n",
    "                    col_name='stack_pred'):\n",
    "\n",
    "        pd.DataFrame({col_name:self.stackTrain}).to_csv(train_file_name,index=False) \n",
    "        pd.DataFrame({col_name:self.stackTest}).to_csv(test_file_name,index=False)"
   ]
  },
  {
   "cell_type": "code",
   "execution_count": 82,
   "metadata": {
    "scrolled": false
   },
   "outputs": [],
   "source": [
    "model_DT = DecisionTreeClassifier(min_samples_split=2, max_features=12)\n",
    "model_RF = RandomForestClassifier(n_estimators = 200, max_features= 3)\n",
    "model_XGB = XGBClassifier(max_depth=16, min_child_weight=1, learning_rate=0.3, n_estimators=1000)\n",
    "\n",
    "MS = stack_model(model_XGB) # model is your model\n",
    "MS.fit_predict(X_train, y_train, X_test)\n",
    "MS.output()"
   ]
  },
  {
   "cell_type": "code",
   "execution_count": 83,
   "metadata": {
    "collapsed": true,
    "scrolled": true
   },
   "outputs": [],
   "source": [
    "# foldernames = os.popen('ls StackData').readlines()\n",
    "# train = {}\n",
    "# test = {}\n",
    "# for foldername in foldernames:\n",
    "#     foldername = foldername[:-1]\n",
    "#     train[foldername] = pd.read_csv('StackData//{0}/stackTrain.csv'.format(foldername))\n",
    "#     test[foldername] = pd.read_csv('StackData//{0}/stackTest.csv'.format(foldername))"
   ]
  },
  {
   "cell_type": "code",
   "execution_count": 84,
   "metadata": {},
   "outputs": [
    {
     "name": "stdout",
     "output_type": "stream",
     "text": [
      "Test accuracy is \n",
      " 0.409861863962\n",
      "             precision    recall  f1-score   support\n",
      "\n",
      "        1.0       0.41      0.98      0.58      2306\n",
      "        2.0       0.54      0.05      0.09      1516\n",
      "        3.0       0.00      0.00      0.00       892\n",
      "        4.0       0.00      0.00      0.00       449\n",
      "        5.0       0.00      0.00      0.00       556\n",
      "\n",
      "avg / total       0.31      0.41      0.26      5719\n",
      "\n"
     ]
    },
    {
     "name": "stderr",
     "output_type": "stream",
     "text": [
      "/Applications/Anaconda/anaconda/lib/python3.6/site-packages/sklearn/metrics/classification.py:1113: UndefinedMetricWarning: Precision and F-score are ill-defined and being set to 0.0 in labels with no predicted samples.\n",
      "  'precision', 'predicted', average, warn_for)\n"
     ]
    }
   ],
   "source": [
    "# import data\n",
    "df_test = pd.read_csv('stackTest1.csv', delimiter= \",\",header=0)\n",
    "df_train = pd.read_csv('stackTrain1.csv', delimiter= \",\",header=0)\n",
    "dataset_test = df_test.as_matrix()\n",
    "dataset_train = df_train.as_matrix()\n",
    "\n",
    "X1_train = dataset_train[0:5719,0:2]\n",
    "y1_train = dataset_train[0:5719,3]\n",
    "X1_test = dataset_test[0:5719,0:2]\n",
    "y1_test = dataset_test[0:5719,3]\n",
    "X1_train.shape\n",
    "\n",
    "model = XGBClassifier()\n",
    "trained_model_rf = model.fit(X1_train, y1_train)\n",
    "predictions = trained_model_rf.predict(X1_test)\n",
    "print('Test accuracy is \\n',accuracy_score(y1_test, predictions))\n",
    "print(metrics.classification_report(y1_test, predictions))\n"
   ]
  },
  {
   "cell_type": "code",
   "execution_count": null,
   "metadata": {
    "collapsed": true
   },
   "outputs": [],
   "source": []
  }
 ],
 "metadata": {
  "kernelspec": {
   "display_name": "Python 3",
   "language": "python",
   "name": "python3"
  },
  "language_info": {
   "codemirror_mode": {
    "name": "ipython",
    "version": 3
   },
   "file_extension": ".py",
   "mimetype": "text/x-python",
   "name": "python",
   "nbconvert_exporter": "python",
   "pygments_lexer": "ipython3",
   "version": "3.7.3"
  }
 },
 "nbformat": 4,
 "nbformat_minor": 2
}
