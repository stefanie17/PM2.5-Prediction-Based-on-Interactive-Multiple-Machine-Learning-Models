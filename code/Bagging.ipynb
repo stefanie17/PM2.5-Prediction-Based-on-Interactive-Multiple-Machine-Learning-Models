{
 "cells": [
  {
   "cell_type": "code",
   "execution_count": 160,
   "metadata": {},
   "outputs": [
    {
     "name": "stdout",
     "output_type": "stream",
     "text": [
      "(21074, 13)\n"
     ]
    }
   ],
   "source": [
    "# Bagged Decision Trees for Classification\n",
    "import pandas as pd\n",
    "from sklearn import model_selection\n",
    "from sklearn.ensemble import BaggingClassifier\n",
    "from sklearn.tree import DecisionTreeClassifier\n",
    "from sklearn.ensemble import RandomForestClassifier\n",
    "from sklearn.model_selection import train_test_split\n",
    "from sklearn.ensemble import ExtraTreesClassifier\n",
    "from sklearn.metrics import accuracy_score\n",
    "from sklearn.model_selection import cross_val_score\n",
    "from sklearn.model_selection import cross_val_predict\n",
    "from sklearn import datasets, metrics\n",
    "import matplotlib.pyplot as plt\n",
    "\n",
    "df_beijing = pd.read_csv('data/chengdu.csv', delimiter= \",\",header=0)\n",
    "dataset = df_beijing.as_matrix()\n",
    "#separate the data from the target attributes\n",
    "def sep_data(dataset):\n",
    "    dataset = dataset.as_matrix()\n",
    "    X = dataset[:,1:14]\n",
    "    y = dataset[:,15]\n",
    "    return (X, y)\n",
    "\n",
    "\n",
    "X, y = sep_data(df_beijing)\n",
    "print(X.shape)\n",
    "\n",
    "seed = 7\n",
    "X_train, X_test, y_train, y_test = train_test_split(X, y, test_size =0.3)\n",
    "kfold = model_selection.KFold(n_splits=10, random_state=seed)"
   ]
  },
  {
   "cell_type": "code",
   "execution_count": 161,
   "metadata": {},
   "outputs": [
    {
     "name": "stdout",
     "output_type": "stream",
     "text": [
      "Test accuracy is \n",
      " 0.634983393959\n",
      "             precision    recall  f1-score   support\n",
      "\n",
      "        1.0       0.74      0.72      0.73      2424\n",
      "        2.0       0.62      0.62      0.62      2283\n",
      "        3.0       0.50      0.52      0.51       863\n",
      "        4.0       0.45      0.44      0.44       448\n",
      "        5.0       0.67      0.66      0.67       305\n",
      "\n",
      "avg / total       0.64      0.63      0.64      6323\n",
      "\n",
      "The cross validation score is \n",
      " 0.387549543448\n",
      "[ 2.  2.  2. ...,  1.  1.  1.]\n"
     ]
    },
    {
     "data": {
      "image/png": "[encoded data removed]",
      "text/plain": [
       "<matplotlib.figure.Figure at 0x11d356780>"
      ]
     },
     "metadata": {},
     "output_type": "display_data"
    }
   ],
   "source": [
    "#decision tree\n",
    "model_dt = DecisionTreeClassifier(min_samples_split=2, max_features='auto', random_state=seed)\n",
    "trained_model_dt = model_dt.fit(X_train, y_train)\n",
    "predictions_dt = trained_model_dt.predict(X_test)\n",
    "results_dt = model_selection.cross_val_score(model_dt, X, y, cv=kfold)\n",
    "print('Test accuracy is \\n',accuracy_score(y_test, predictions_dt))\n",
    "print(metrics.classification_report(y_test, predictions_dt))\n",
    "print('The cross validation score is \\n', results_dt.mean())\n",
    "print(predictions_dt)\n",
    "plt.figure()\n",
    "plt.hist(predictions_dt)\n",
    "plt.hist(y_test)\n",
    "plt.show()"
   ]
  },
  {
   "cell_type": "code",
   "execution_count": 162,
   "metadata": {},
   "outputs": [
    {
     "name": "stdout",
     "output_type": "stream",
     "text": [
      "Test accuracy is \n",
      " 0.774790447572\n",
      "             precision    recall  f1-score   support\n",
      "\n",
      "        1.0       0.82      0.86      0.84      2424\n",
      "        2.0       0.75      0.78      0.77      2283\n",
      "        3.0       0.69      0.61      0.65       863\n",
      "        4.0       0.71      0.60      0.65       448\n",
      "        5.0       0.84      0.77      0.80       305\n",
      "\n",
      "avg / total       0.77      0.77      0.77      6323\n",
      "\n",
      "The cross validation score is \n",
      " 0.471921349185\n"
     ]
    }
   ],
   "source": [
    "#bagging decision tree\n",
    "num_trees = 100\n",
    "model_bdt = BaggingClassifier(base_estimator=model_dt, n_estimators=num_trees, random_state=seed)\n",
    "results_bdt = model_selection.cross_val_score(model_bdt, X, y, cv=kfold)\n",
    "trained_model_bdt = model_bdt.fit(X_train, y_train)\n",
    "predictions_bdt = trained_model_bdt.predict(X_test)\n",
    "print('Test accuracy is \\n',accuracy_score(y_test, predictions_bdt))\n",
    "print(metrics.classification_report(y_test, predictions_bdt))\n",
    "print('The cross validation score is \\n', results_bdt.mean())"
   ]
  },
  {
   "cell_type": "code",
   "execution_count": 163,
   "metadata": {},
   "outputs": [
    {
     "name": "stdout",
     "output_type": "stream",
     "text": [
      "Test accuracy is \n",
      " 0.776688280879\n",
      "             precision    recall  f1-score   support\n",
      "\n",
      "        1.0       0.82      0.86      0.84      2424\n",
      "        2.0       0.75      0.78      0.77      2283\n",
      "        3.0       0.71      0.62      0.66       863\n",
      "        4.0       0.71      0.60      0.65       448\n",
      "        5.0       0.85      0.79      0.82       305\n",
      "\n",
      "avg / total       0.77      0.78      0.77      6323\n",
      "\n",
      "The cross validation score is \n",
      " 0.470118715153\n"
     ]
    }
   ],
   "source": [
    "#Random forest Classification\n",
    "model_rf = RandomForestClassifier(n_estimators = num_trees, max_features= 3, random_state=seed)\n",
    "trained_model_rf = model.fit(X_train, y_train)\n",
    "predictions_rf = trained_model_rf.predict(X_test)\n",
    "\n",
    "results_rf = model_selection.cross_val_score(model_rf, X, y, cv=kfold)\n",
    "print('Test accuracy is \\n',accuracy_score(y_test, predictions_rf))\n",
    "print(metrics.classification_report(y_test, predictions_rf))\n",
    "print('The cross validation score is \\n', results_rf.mean())"
   ]
  },
  {
   "cell_type": "code",
   "execution_count": 164,
   "metadata": {},
   "outputs": [
    {
     "name": "stdout",
     "output_type": "stream",
     "text": [
      "Test accuracy is \n",
      " 0.776688280879\n",
      "             precision    recall  f1-score   support\n",
      "\n",
      "        1.0       0.82      0.86      0.84      2424\n",
      "        2.0       0.75      0.78      0.77      2283\n",
      "        3.0       0.71      0.62      0.66       863\n",
      "        4.0       0.71      0.60      0.65       448\n",
      "        5.0       0.85      0.79      0.82       305\n",
      "\n",
      "avg / total       0.77      0.78      0.77      6323\n",
      "\n",
      "The cross validation score is \n",
      " 0.43974800723\n"
     ]
    }
   ],
   "source": [
    "# Extra Trees Classification\n",
    "model_et = ExtraTreesClassifier(n_estimators=num_trees, max_features=12, random_state=seed)\n",
    "results_et = model_selection.cross_val_score(model_et, X, y, cv=kfold)\n",
    "trained_model_et = model.fit(X_train, y_train)\n",
    "predictions_et = trained_model_et.predict(X_test)\n",
    "print('Test accuracy is \\n',accuracy_score(y_test, predictions_et))\n",
    "print(metrics.classification_report(y_test, predictions_et))\n",
    "print('The cross validation score is \\n', results_et.mean())"
   ]
  },
  {
   "cell_type": "code",
   "execution_count": 165,
   "metadata": {},
   "outputs": [
    {
     "data": {
      "text/plain": [
       "array(['stack_pred'], dtype=object)"
      ]
     },
     "execution_count": 165,
     "metadata": {},
     "output_type": "execute_result"
    }
   ],
   "source": [
    "df = pd.read_csv('DT/stackTest1.csv')\n",
    "df.columns.values"
   ]
  },
  {
   "cell_type": "code",
   "execution_count": 166,
   "metadata": {},
   "outputs": [
    {
     "data": {
      "image/png": "[encoded data removed]",
      "text/plain": [
       "<matplotlib.figure.Figure at 0x10d2ac2e8>"
      ]
     },
     "metadata": {},
     "output_type": "display_data"
    }
   ],
   "source": [
    "plt.hist(df['stack_pred'])\n",
    "plt.show()"
   ]
  },
  {
   "cell_type": "code",
   "execution_count": 167,
   "metadata": {},
   "outputs": [
    {
     "data": {
      "image/png": "[encoded data removed]",
      "text/plain": [
       "<matplotlib.figure.Figure at 0x11db93ef0>"
      ]
     },
     "metadata": {},
     "output_type": "display_data"
    }
   ],
   "source": [
    "df_train = pd.read_csv('DT/stackTrain1.csv')\n",
    "plt.hist(df_train['stack_pred'])\n",
    "plt.show()"
   ]
  },
  {
   "cell_type": "code",
   "execution_count": null,
   "metadata": {
    "collapsed": true
   },
   "outputs": [],
   "source": []
  }
 ],
 "metadata": {
  "kernelspec": {
   "display_name": "Python 3",
   "language": "python",
   "name": "python3"
  },
  "language_info": {
   "codemirror_mode": {
    "name": "ipython",
    "version": 3
   },
   "file_extension": ".py",
   "mimetype": "text/x-python",
   "name": "python",
   "nbconvert_exporter": "python",
   "pygments_lexer": "ipython3",
   "version": "3.7.3"
  }
 },
 "nbformat": 4,
 "nbformat_minor": 2
}
