{
 "cells": [
  {
   "cell_type": "markdown",
   "metadata": {},
   "source": [
    "# Descrption"
   ]
  },
  {
   "cell_type": "markdown",
   "metadata": {},
   "source": [
    "## Import library"
   ]
  },
  {
   "cell_type": "code",
   "execution_count": 1,
   "metadata": {
    "collapsed": true
   },
   "outputs": [],
   "source": [
    "import pandas as pd\n",
    "import numpy as np\n",
    "import glob \n",
    "import os"
   ]
  },
  {
   "cell_type": "markdown",
   "metadata": {},
   "source": [
    "## Function"
   ]
  },
  {
   "cell_type": "code",
   "execution_count": 2,
   "metadata": {},
   "outputs": [],
   "source": [
    "def insert_PM_mean(city_data,cal_cols):\n",
    "    inserted_city_data = city_data\n",
    "    PM_means = []\n",
    "    for row in city_data[cal_cols].iterrows():\n",
    "        PM_means.append(\"{:.3f}\".format(np.mean(row[1].values)))\n",
    "    inserted_city_data.insert(len(city_data.columns),'PM_Mean',PM_means)\n",
    "    return inserted_city_data\n",
    "\n",
    "def convert_to_num(cbwd_in_str):\n",
    "    if cbwd_in_str == 'NE':\n",
    "        cbwd_in_int = 1\n",
    "    elif cbwd_in_str == 'SE':\n",
    "        cbwd_in_int = 2\n",
    "    elif cbwd_in_str == 'NW':\n",
    "        cbwd_in_int = 3\n",
    "    elif cbwd_in_str == 'SW':\n",
    "        cbwd_in_int = 4\n",
    "    else:\n",
    "        cbwd_in_int = 0\n",
    "    return cbwd_in_int\n",
    "\n",
    "def get_columns(city_data, columns_name = 'PM_', neddel_cols = ['day', 'hour']):\n",
    "    \"\"\"\n",
    "    parameter:\n",
    "        city_data is the air quality data from a city.\n",
    "        columns_name is the PM data column filter       \n",
    "        neddel_cols is the extra column need to be deleted\n",
    "    return:\n",
    "         PM_columns,dropped_columns name of those columns\n",
    "    \"\"\"\n",
    "    PM_columns = []\n",
    "    dropped_columns = []\n",
    "    for column in city_data.columns:\n",
    "        if columns_name in column:\n",
    "            PM_columns.append(column)\n",
    "    dropped_columns = neddel_cols + PM_columns\n",
    "    return PM_columns,dropped_columns"
   ]
  },
  {
   "cell_type": "markdown",
   "metadata": {
    "collapsed": true
   },
   "source": [
    "## Data preprocessing"
   ]
  },
  {
   "cell_type": "code",
   "execution_count": 3,
   "metadata": {},
   "outputs": [],
   "source": [
    "source_urls = glob.glob('E:/UVM2017 fall/CS 295 Machine Learning/Final_Project/*PM20130101_20151231.csv')\n",
    "datasets = {}\n",
    "for url in source_urls:\n",
    "    city_name = url.split('\\\\')[1][:-23].lower() #source_urls[2].split('\\\\')[1][:-23] = 'Guangzhou'\n",
    "    with open(url, 'r') as fin:\n",
    "        datasets[city_name] = pd.read_csv(fin, index_col = 0)"
   ]
  },
  {
   "cell_type": "code",
   "execution_count": 4,
   "metadata": {
    "scrolled": true
   },
   "outputs": [
    {
     "data": {
      "text/html": [
       "<div>\n",
       "<style>\n",
       "    .dataframe thead tr:only-child th {\n",
       "        text-align: right;\n",
       "    }\n",
       "\n",
       "    .dataframe thead th {\n",
       "        text-align: left;\n",
       "    }\n",
       "\n",
       "    .dataframe tbody tr th {\n",
       "        vertical-align: top;\n",
       "    }\n",
       "</style>\n",
       "<table border=\"1\" class=\"dataframe\">\n",
       "  <thead>\n",
       "    <tr style=\"text-align: right;\">\n",
       "      <th></th>\n",
       "      <th>year</th>\n",
       "      <th>month</th>\n",
       "      <th>day</th>\n",
       "      <th>hour</th>\n",
       "      <th>season</th>\n",
       "      <th>PM_Caotangsi</th>\n",
       "      <th>PM_Shahepu</th>\n",
       "      <th>PM_US Post</th>\n",
       "      <th>DEWP</th>\n",
       "      <th>HUMI</th>\n",
       "      <th>PRES</th>\n",
       "      <th>TEMP</th>\n",
       "      <th>cbwd</th>\n",
       "      <th>Iws</th>\n",
       "      <th>precipitation</th>\n",
       "      <th>Iprec</th>\n",
       "    </tr>\n",
       "    <tr>\n",
       "      <th>No</th>\n",
       "      <th></th>\n",
       "      <th></th>\n",
       "      <th></th>\n",
       "      <th></th>\n",
       "      <th></th>\n",
       "      <th></th>\n",
       "      <th></th>\n",
       "      <th></th>\n",
       "      <th></th>\n",
       "      <th></th>\n",
       "      <th></th>\n",
       "      <th></th>\n",
       "      <th></th>\n",
       "      <th></th>\n",
       "      <th></th>\n",
       "      <th></th>\n",
       "    </tr>\n",
       "  </thead>\n",
       "  <tbody>\n",
       "    <tr>\n",
       "      <th>1</th>\n",
       "      <td>2013</td>\n",
       "      <td>1</td>\n",
       "      <td>1</td>\n",
       "      <td>0</td>\n",
       "      <td>4</td>\n",
       "      <td>121.0</td>\n",
       "      <td>138.0</td>\n",
       "      <td>129.0</td>\n",
       "      <td>-4.0</td>\n",
       "      <td>64.42</td>\n",
       "      <td>1022.0</td>\n",
       "      <td>2.0</td>\n",
       "      <td>cv</td>\n",
       "      <td>1.0</td>\n",
       "      <td>0.0</td>\n",
       "      <td>0.0</td>\n",
       "    </tr>\n",
       "    <tr>\n",
       "      <th>2</th>\n",
       "      <td>2013</td>\n",
       "      <td>1</td>\n",
       "      <td>1</td>\n",
       "      <td>1</td>\n",
       "      <td>4</td>\n",
       "      <td>134.0</td>\n",
       "      <td>159.0</td>\n",
       "      <td>135.0</td>\n",
       "      <td>-3.0</td>\n",
       "      <td>80.19</td>\n",
       "      <td>1022.0</td>\n",
       "      <td>0.0</td>\n",
       "      <td>cv</td>\n",
       "      <td>1.0</td>\n",
       "      <td>0.0</td>\n",
       "      <td>0.0</td>\n",
       "    </tr>\n",
       "    <tr>\n",
       "      <th>3</th>\n",
       "      <td>2013</td>\n",
       "      <td>1</td>\n",
       "      <td>1</td>\n",
       "      <td>2</td>\n",
       "      <td>4</td>\n",
       "      <td>NaN</td>\n",
       "      <td>NaN</td>\n",
       "      <td>NaN</td>\n",
       "      <td>-3.0</td>\n",
       "      <td>80.19</td>\n",
       "      <td>1022.0</td>\n",
       "      <td>0.0</td>\n",
       "      <td>cv</td>\n",
       "      <td>1.0</td>\n",
       "      <td>0.0</td>\n",
       "      <td>0.0</td>\n",
       "    </tr>\n",
       "    <tr>\n",
       "      <th>4</th>\n",
       "      <td>2013</td>\n",
       "      <td>1</td>\n",
       "      <td>1</td>\n",
       "      <td>3</td>\n",
       "      <td>4</td>\n",
       "      <td>203.0</td>\n",
       "      <td>162.0</td>\n",
       "      <td>NaN</td>\n",
       "      <td>-3.0</td>\n",
       "      <td>80.19</td>\n",
       "      <td>1022.0</td>\n",
       "      <td>0.0</td>\n",
       "      <td>SW</td>\n",
       "      <td>1.0</td>\n",
       "      <td>0.0</td>\n",
       "      <td>0.0</td>\n",
       "    </tr>\n",
       "    <tr>\n",
       "      <th>5</th>\n",
       "      <td>2013</td>\n",
       "      <td>1</td>\n",
       "      <td>1</td>\n",
       "      <td>4</td>\n",
       "      <td>4</td>\n",
       "      <td>217.0</td>\n",
       "      <td>157.0</td>\n",
       "      <td>NaN</td>\n",
       "      <td>-1.0</td>\n",
       "      <td>100.00</td>\n",
       "      <td>1021.0</td>\n",
       "      <td>-1.0</td>\n",
       "      <td>cv</td>\n",
       "      <td>0.0</td>\n",
       "      <td>0.0</td>\n",
       "      <td>0.0</td>\n",
       "    </tr>\n",
       "  </tbody>\n",
       "</table>\n",
       "</div>"
      ],
      "text/plain": [
       "    year  month  day  hour  season  PM_Caotangsi  PM_Shahepu  PM_US Post  \\\n",
       "No                                                                         \n",
       "1   2013      1    1     0       4         121.0       138.0       129.0   \n",
       "2   2013      1    1     1       4         134.0       159.0       135.0   \n",
       "3   2013      1    1     2       4           NaN         NaN         NaN   \n",
       "4   2013      1    1     3       4         203.0       162.0         NaN   \n",
       "5   2013      1    1     4       4         217.0       157.0         NaN   \n",
       "\n",
       "    DEWP    HUMI    PRES  TEMP cbwd  Iws  precipitation  Iprec  \n",
       "No                                                              \n",
       "1   -4.0   64.42  1022.0   2.0   cv  1.0            0.0    0.0  \n",
       "2   -3.0   80.19  1022.0   0.0   cv  1.0            0.0    0.0  \n",
       "3   -3.0   80.19  1022.0   0.0   cv  1.0            0.0    0.0  \n",
       "4   -3.0   80.19  1022.0   0.0   SW  1.0            0.0    0.0  \n",
       "5   -1.0  100.00  1021.0  -1.0   cv  0.0            0.0    0.0  "
      ]
     },
     "execution_count": 4,
     "metadata": {},
     "output_type": "execute_result"
    }
   ],
   "source": [
    "datasets['chengdu'].head()"
   ]
  },
  {
   "cell_type": "code",
   "execution_count": 5,
   "metadata": {
    "scrolled": true
   },
   "outputs": [
    {
     "data": {
      "text/plain": [
       "['PM_Jingan', 'PM_US Post', 'PM_Xuhui']"
      ]
     },
     "execution_count": 5,
     "metadata": {},
     "output_type": "execute_result"
    }
   ],
   "source": [
    "list(datasets['shanghai'].columns[5:8])"
   ]
  },
  {
   "cell_type": "code",
   "execution_count": 6,
   "metadata": {
    "scrolled": false
   },
   "outputs": [
    {
     "name": "stdout",
     "output_type": "stream",
     "text": [
      "beijing 26280\n",
      "chengdu 26280\n",
      "guangzhou 26280\n",
      "shanghai 25602\n",
      "shenyang 26280\n"
     ]
    }
   ],
   "source": [
    "for city in datasets:\n",
    "    print(city,len(datasets[city]))"
   ]
  },
  {
   "cell_type": "markdown",
   "metadata": {},
   "source": [
    "## Variables defintion\n",
    "** Some useful colums' lists **"
   ]
  },
  {
   "cell_type": "code",
   "execution_count": 7,
   "metadata": {
    "collapsed": true
   },
   "outputs": [],
   "source": [
    "PM_columns = ['PM_Jingan','PM_US Post','PM_Xuhui']\n",
    "dropped_columns = ['day','hour'] + PM_columns"
   ]
  },
  {
   "cell_type": "markdown",
   "metadata": {},
   "source": [
    "** Data cleaning**"
   ]
  },
  {
   "cell_type": "code",
   "execution_count": 8,
   "metadata": {},
   "outputs": [],
   "source": [
    "cleaned_datasets = {} \n",
    "for city in datasets:\n",
    "    PM_cols = []\n",
    "    dropped_cols = []\n",
    "    PM_cols, dropped_cols =  get_columns(datasets[city])\n",
    "    cleaned_datasets[city] = datasets[city].dropna(axis = 0, how = 'any')\n",
    "    cleaned_datasets[city] = cleaned_datasets[city].reset_index(drop = True)\n",
    "    cleaned_datasets[city] = insert_PM_mean(cleaned_datasets[city],PM_cols)\n",
    "    cleaned_datasets[city] = cleaned_datasets[city].drop(dropped_cols,axis = 1)\n",
    "    cleaned_datasets[city]['cbwd'] = cleaned_datasets[city]['cbwd'].apply(convert_to_num)"
   ]
  },
  {
   "cell_type": "code",
   "execution_count": 9,
   "metadata": {},
   "outputs": [],
   "source": [
    "for city in cleaned_datasets:\n",
    "    if not os.path.isfile(str(city + 'PM20130101_20151231(cleaned).csv')):  #check if the file is exists\n",
    "        cleaned_datasets[city].to_csv(str(city+'PM20130101_20151231(cleaned).csv'))"
   ]
  },
  {
   "cell_type": "code",
   "execution_count": 10,
   "metadata": {
    "scrolled": true
   },
   "outputs": [
    {
     "name": "stdout",
     "output_type": "stream",
     "text": [
      "beijing\n",
      "   year  month  season  DEWP  HUMI    PRES  TEMP  cbwd   Iws  precipitation  \\\n",
      "0  2013      3       1  -6.0  59.0  1019.0   1.0     0  0.89            0.0   \n",
      "1  2013      3       1  -8.0  38.0  1019.0   5.0     0  1.78            0.0   \n",
      "2  2013      3       1  -8.0  31.0  1018.0   8.0     0  2.67            0.0   \n",
      "3  2013      3       1  -9.0  23.0  1017.0  11.0     0  4.45            0.0   \n",
      "4  2013      3       1  -9.0  22.0  1015.0  12.0     0  5.34            0.0   \n",
      "\n",
      "   Iprec  PM_Mean  \n",
      "0    0.0  143.250  \n",
      "1    0.0  152.750  \n",
      "2    0.0  153.500  \n",
      "3    0.0  133.750  \n",
      "4    0.0  132.000  \n",
      "2    6872\n",
      "3    5620\n",
      "0    4318\n",
      "1    2252\n",
      "Name: cbwd, dtype: int64\n",
      "chengdu\n",
      "   year  month  season  DEWP   HUMI    PRES  TEMP  cbwd  Iws  precipitation  \\\n",
      "0  2013      1       4  -4.0  64.42  1022.0   2.0     0  1.0            0.0   \n",
      "1  2013      1       4  -3.0  80.19  1022.0   0.0     0  1.0            0.0   \n",
      "2  2013      1       4  -9.0  26.99  1018.0   9.0     4  1.0            0.0   \n",
      "3  2013      1       4  -8.0  27.29  1017.0  10.0     4  2.0            0.0   \n",
      "4  2013      1       4  -7.0  29.48  1015.0  10.0     1  2.0            0.0   \n",
      "\n",
      "   Iprec  PM_Mean  \n",
      "0    0.0  129.333  \n",
      "1    0.0  142.667  \n",
      "2    0.0  157.333  \n",
      "3    0.0  150.667  \n",
      "4    0.0  135.333  \n",
      "0    10027\n",
      "4     3856\n",
      "3     3826\n",
      "1     2156\n",
      "2     1209\n",
      "Name: cbwd, dtype: int64\n",
      "guangzhou\n",
      "   year  month  season  DEWP  HUMI    PRES  TEMP  cbwd  Iws  precipitation  \\\n",
      "0  2013      1     4.0   3.7  91.0  1014.2   5.0     3  1.9            0.0   \n",
      "1  2013      1     4.0   4.2  88.0  1014.2   6.0     3  3.4            0.0   \n",
      "2  2013      1     4.0   3.5  76.0  1013.9   7.5     3  5.8            0.0   \n",
      "3  2013      1     4.0   2.7  69.0  1013.9   8.0     3  8.2            0.0   \n",
      "4  2013      1     4.0   1.5  62.0  1014.2   8.4     3  9.0            0.0   \n",
      "\n",
      "   Iprec PM_Mean  \n",
      "0    0.0  81.333  \n",
      "1    0.0  86.667  \n",
      "2    0.0  58.667  \n",
      "3    0.0  63.000  \n",
      "4    0.0  44.333  \n",
      "3    7353\n",
      "1    6866\n",
      "2    3266\n",
      "4    2165\n",
      "0     424\n",
      "Name: cbwd, dtype: int64\n",
      "shanghai\n",
      "   year  month  season  DEWP   HUMI    PRES  TEMP  cbwd   Iws  precipitation  \\\n",
      "0  2013      1       4   3.0  70.67  1022.0   8.0     2  73.0            0.0   \n",
      "1  2013      1       4   3.0  70.67  1023.0   8.0     2  77.0            0.0   \n",
      "2  2013      1       4   4.0  75.84  1023.0   8.0     2  80.0            0.0   \n",
      "3  2013      1       4   4.0  66.27  1023.0  10.0     2  84.0            0.0   \n",
      "4  2013      1       4   4.0  62.00  1024.0  11.0     4   4.0            0.0   \n",
      "\n",
      "   Iprec PM_Mean  \n",
      "0    0.0  31.667  \n",
      "1    0.0  38.000  \n",
      "2    0.0  40.333  \n",
      "3    0.0  41.667  \n",
      "4    0.0  47.000  \n",
      "1    7651\n",
      "2    6142\n",
      "3    3887\n",
      "4    2524\n",
      "0     664\n",
      "Name: cbwd, dtype: int64\n",
      "shenyang\n",
      "   year  month  season  DEWP   HUMI    PRES  TEMP  cbwd   Iws  precipitation  \\\n",
      "0  2013      4       1  -1.0  25.89  1013.0  19.0     4  55.0            0.0   \n",
      "1  2013      4       1  -5.0  26.40  1012.0  14.0     4  17.0            0.0   \n",
      "2  2013      4       1   2.0  50.36  1010.0  12.0     4  56.0            0.0   \n",
      "3  2013      4       1   6.0  87.19  1010.0   8.0     4  33.0            0.0   \n",
      "4  2013      4       1  -4.0  23.50  1006.0  17.0     4  69.0            0.0   \n",
      "\n",
      "   Iprec  PM_Mean  \n",
      "0    0.0  131.333  \n",
      "1    0.0   55.667  \n",
      "2    0.0  152.667  \n",
      "3    0.0  131.000  \n",
      "4    0.0   14.667  \n",
      "4    6530\n",
      "2    4614\n",
      "3    3487\n",
      "1    2944\n",
      "0    1463\n",
      "Name: cbwd, dtype: int64\n"
     ]
    }
   ],
   "source": [
    "for city in cleaned_datasets:\n",
    "    print(city)\n",
    "    print(cleaned_datasets[city].head())\n",
    "    print(cleaned_datasets[city]['cbwd'].value_counts())"
   ]
  },
  {
   "cell_type": "code",
   "execution_count": null,
   "metadata": {
    "collapsed": true
   },
   "outputs": [],
   "source": []
  }
 ],
 "metadata": {
  "kernelspec": {
   "display_name": "Python 3",
   "language": "python",
   "name": "python3"
  },
  "language_info": {
   "codemirror_mode": {
    "name": "ipython",
    "version": 3
   },
   "file_extension": ".py",
   "mimetype": "text/x-python",
   "name": "python",
   "nbconvert_exporter": "python",
   "pygments_lexer": "ipython3",
   "version": "3.6.1"
  }
 },
 "nbformat": 4,
 "nbformat_minor": 2
}
