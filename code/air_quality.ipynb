{
 "cells": [
  {
   "cell_type": "code",
   "execution_count": 2,
   "metadata": {},
   "outputs": [],
   "source": [
    "import pandas as pd\n",
    "import numpy as np\n",
    "import xgboost as xgb\n",
    "from sklearn.model_selection import train_test_split\n",
    "import scipy\n",
    "from sklearn.preprocessing import OneHotEncoder\n",
    "import matplotlib.pylab as plt\n",
    "import warnings\n",
    "warnings.filterwarnings(\"ignore\")\n",
    "%matplotlib inline"
   ]
  },
  {
   "cell_type": "markdown",
   "metadata": {},
   "source": [
    "# Data exploration"
   ]
  },
  {
   "cell_type": "code",
   "execution_count": 3,
   "metadata": {},
   "outputs": [
    {
     "data": {
      "text/html": [
       "<div>\n",
       "<table border=\"1\" class=\"dataframe\">\n",
       "  <thead>\n",
       "    <tr style=\"text-align: right;\">\n",
       "      <th></th>\n",
       "      <th>Unnamed: 0</th>\n",
       "      <th>year</th>\n",
       "      <th>month</th>\n",
       "      <th>day</th>\n",
       "      <th>hour</th>\n",
       "      <th>season</th>\n",
       "      <th>DEWP</th>\n",
       "      <th>HUMI</th>\n",
       "      <th>PRES</th>\n",
       "      <th>TEMP</th>\n",
       "      <th>cbwd</th>\n",
       "      <th>Iws</th>\n",
       "      <th>precipitation</th>\n",
       "      <th>Iprec</th>\n",
       "      <th>PM_Mean</th>\n",
       "      <th>PM_Class</th>\n",
       "    </tr>\n",
       "  </thead>\n",
       "  <tbody>\n",
       "    <tr>\n",
       "      <th>0</th>\n",
       "      <td>0</td>\n",
       "      <td>2013</td>\n",
       "      <td>1</td>\n",
       "      <td>1</td>\n",
       "      <td>0</td>\n",
       "      <td>4.0</td>\n",
       "      <td>3.7</td>\n",
       "      <td>91.0</td>\n",
       "      <td>1014.2</td>\n",
       "      <td>5.0</td>\n",
       "      <td>3</td>\n",
       "      <td>1.9</td>\n",
       "      <td>0.0</td>\n",
       "      <td>0.0</td>\n",
       "      <td>81.333</td>\n",
       "      <td>2</td>\n",
       "    </tr>\n",
       "  </tbody>\n",
       "</table>\n",
       "</div>"
      ],
      "text/plain": [
       "   Unnamed: 0  year  month  day  hour  season  DEWP  HUMI    PRES  TEMP  cbwd  \\\n",
       "0           0  2013      1    1     0     4.0   3.7  91.0  1014.2   5.0     3   \n",
       "\n",
       "   Iws  precipitation  Iprec  PM_Mean  PM_Class  \n",
       "0  1.9            0.0    0.0   81.333         2  "
      ]
     },
     "execution_count": 3,
     "metadata": {},
     "output_type": "execute_result"
    }
   ],
   "source": [
    "df = pd.read_csv('guangzhou.csv')\n",
    "df.head(1)"
   ]
  },
  {
   "cell_type": "code",
   "execution_count": 4,
   "metadata": {},
   "outputs": [],
   "source": [
    "target_reg = df['PM_Mean'].values# target for regression\n",
    "target_cls = df['PM_Class'].values # target for classification"
   ]
  },
  {
   "cell_type": "code",
   "execution_count": 5,
   "metadata": {},
   "outputs": [],
   "source": [
    "df.drop(['Unnamed: 0','PM_Class','PM_Mean'], axis=1, inplace=True)"
   ]
  },
  {
   "cell_type": "code",
   "execution_count": 6,
   "metadata": {},
   "outputs": [],
   "source": [
    "features = df.columns.values\n",
    "#find categorical attributes and numerical attributes\n",
    "cat_feats = ['year', 'month', 'day', 'hour', 'season']\n",
    "\n",
    "#onehotencoder for categorical attributes\n",
    "train_cat = OneHotEncoder().fit_transform(df[cat_feats])\n",
    "df.drop(cat_feats, axis=1, inplace=True)\n",
    "train = scipy.sparse.hstack((train_cat,df)).A"
   ]
  },
  {
   "cell_type": "markdown",
   "metadata": {},
   "source": [
    "# Use xgboost  to predict the target_cls"
   ]
  },
  {
   "cell_type": "code",
   "execution_count": 29,
   "metadata": {},
   "outputs": [],
   "source": [
    "from xgboost import XGBClassifier\n",
    "from sklearn.model_selection import KFold,StratifiedKFold \n",
    "from sklearn.metrics import mean_squared_error, accuracy_score, log_loss, f1_score\n",
    "from sklearn import metrics"
   ]
  },
  {
   "cell_type": "code",
   "execution_count": 30,
   "metadata": {},
   "outputs": [],
   "source": [
    "x_train, x_valid, y_train, y_valid = train_test_split(train, target_cls, test_size=0.2, random_state=42)"
   ]
  },
  {
   "cell_type": "code",
   "execution_count": 34,
   "metadata": {},
   "outputs": [],
   "source": [
    "# use the default parameters of xgboost as baseline\n",
    "model = XGBClassifier()"
   ]
  },
  {
   "cell_type": "code",
   "execution_count": 35,
   "metadata": {},
   "outputs": [],
   "source": [
    "fit_model = model.fit(x_train, y_train,\n",
    "         eval_set=[(x_valid,y_valid)],\n",
    "        verbose=False)"
   ]
  },
  {
   "cell_type": "code",
   "execution_count": 36,
   "metadata": {},
   "outputs": [
    {
     "name": "stdout",
     "output_type": "stream",
     "text": [
      "accuracy score: 0.746\n",
      "             precision    recall  f1-score   support\n",
      "\n",
      "          1       0.79      0.90      0.84      2572\n",
      "          2       0.62      0.55      0.58      1195\n",
      "          3       0.82      0.07      0.13       205\n",
      "          4       0.75      0.07      0.14        40\n",
      "          5       0.50      0.33      0.40         3\n",
      "\n",
      "avg / total       0.74      0.75      0.72      4015\n",
      "\n"
     ]
    }
   ],
   "source": [
    "pred =fit_model.predict(x_valid)\n",
    "print('accuracy score: {:.3f}'.format(accuracy_score(y_valid, pred)))\n",
    "print(metrics.classification_report(y_valid, pred))"
   ]
  },
  {
   "cell_type": "code",
   "execution_count": null,
   "metadata": {
    "collapsed": true
   },
   "outputs": [],
   "source": [
    "class CustomGridCV(object):\n",
    "    def __init__(self, X, y, model, metric, griddata, cv=5):\n",
    "        self.X = X\n",
    "        self.y = y\n",
    "        self.model = model\n",
    "        self.metric = metric\n",
    "        self.params = self.gridpoints(griddata)\n",
    "        self.cv = cv\n",
    "        self.bestScore = None\n",
    "        self.bestParams = None\n",
    "        \n",
    "    def gridpoints(self, data):\n",
    "        newparams = [{}]\n",
    "        for k in data.keys():\n",
    "            params = newparams\n",
    "            newparams = []\n",
    "            for v in data[k]:\n",
    "                for param in params:\n",
    "                    item = param.copy()\n",
    "                    item[k]=v\n",
    "                    newparams.append(item)           \n",
    "        return newparams\n",
    "    \n",
    "    def GridSearch(self):\n",
    "        for param in self.params:\n",
    "            self.model.set_params(**param)\n",
    "            score = self.KFoldScore()\n",
    "            if self.bestScore==None or self.bestScore<score:\n",
    "                self.bestScore = score\n",
    "                self.bestParams = param\n",
    "            print(\"Score: {0:.5f}, Params: {1}\".format(score,param))\n",
    "    \n",
    "    def KFoldScore(self):\n",
    "        #kf = KFold(n_splits=5, shuffle=True, random_state=2)\n",
    "        kf = StratifiedKFold(n_splits=5, shuffle=True, random_state=2)\n",
    "        y_pred = np.zeros(len(self.y))\n",
    "\n",
    "        for train_index, test_index in kf.split(self.X,self.y):\n",
    "            train_X, test_X = self.X[train_index], self.X[test_index]\n",
    "            train_y, test_y = self.y[train_index], self.y[test_index]\n",
    "            self.model.fit(train_X,train_y)\n",
    "            #y_pred[test_index] = self.model.predict_proba(test_X)[:,1]\n",
    "            y_pred[test_index] = self.model.predict(test_X)\n",
    "            #print y_pred[test_index]\n",
    "\n",
    "        return self.metric(self.y,y_pred)\n",
    "    \n",
    "    def Best(self):\n",
    "        return self.bestScore, self.bestParams"
   ]
  },
  {
   "cell_type": "code",
   "execution_count": 37,
   "metadata": {},
   "outputs": [
    {
     "data": {
      "text/plain": [
       "XGBClassifier(base_score=0.5, colsample_bylevel=1, colsample_bytree=1,\n",
       "       gamma=0, learning_rate=0.1, max_delta_step=0, max_depth=3,\n",
       "       min_child_weight=1, missing=None, n_estimators=100, nthread=-1,\n",
       "       objective='multi:softprob', reg_alpha=0, reg_lambda=1,\n",
       "       scale_pos_weight=1, seed=0, silent=True, subsample=1)"
      ]
     },
     "execution_count": 37,
     "metadata": {},
     "output_type": "execute_result"
    }
   ],
   "source": [
    "model"
   ]
  },
  {
   "cell_type": "code",
   "execution_count": null,
   "metadata": {},
   "outputs": [
    {
     "name": "stdout",
     "output_type": "stream",
     "text": [
      "Score: 0.69328, Params: {'max_depth': 3, 'min_child_weight': 1, 'learning_rate': 0.01}\n",
      "Score: 0.70190, Params: {'max_depth': 4, 'min_child_weight': 1, 'learning_rate': 0.01}\n",
      "Score: 0.72576, Params: {'max_depth': 5, 'min_child_weight': 1, 'learning_rate': 0.01}\n",
      "Score: 0.74106, Params: {'max_depth': 6, 'min_child_weight': 1, 'learning_rate': 0.01}\n",
      "Score: 0.75939, Params: {'max_depth': 7, 'min_child_weight': 1, 'learning_rate': 0.01}\n",
      "Score: 0.69343, Params: {'max_depth': 3, 'min_child_weight': 2, 'learning_rate': 0.01}\n",
      "Score: 0.70185, Params: {'max_depth': 4, 'min_child_weight': 2, 'learning_rate': 0.01}\n",
      "Score: 0.72567, Params: {'max_depth': 5, 'min_child_weight': 2, 'learning_rate': 0.01}\n",
      "Score: 0.74066, Params: {'max_depth': 6, 'min_child_weight': 2, 'learning_rate': 0.01}\n",
      "Score: 0.75655, Params: {'max_depth': 7, 'min_child_weight': 2, 'learning_rate': 0.01}\n",
      "Score: 0.69348, Params: {'max_depth': 3, 'min_child_weight': 3, 'learning_rate': 0.01}\n",
      "Score: 0.70215, Params: {'max_depth': 4, 'min_child_weight': 3, 'learning_rate': 0.01}\n",
      "Score: 0.72626, Params: {'max_depth': 5, 'min_child_weight': 3, 'learning_rate': 0.01}\n",
      "Score: 0.73986, Params: {'max_depth': 6, 'min_child_weight': 3, 'learning_rate': 0.01}\n",
      "Score: 0.75341, Params: {'max_depth': 7, 'min_child_weight': 3, 'learning_rate': 0.01}\n",
      "Score: 0.69353, Params: {'max_depth': 3, 'min_child_weight': 4, 'learning_rate': 0.01}\n",
      "Score: 0.70175, Params: {'max_depth': 4, 'min_child_weight': 4, 'learning_rate': 0.01}\n",
      "Score: 0.72567, Params: {'max_depth': 5, 'min_child_weight': 4, 'learning_rate': 0.01}\n",
      "Score: 0.73902, Params: {'max_depth': 6, 'min_child_weight': 4, 'learning_rate': 0.01}\n",
      "Score: 0.75207, Params: {'max_depth': 7, 'min_child_weight': 4, 'learning_rate': 0.01}\n",
      "Score: 0.70474, Params: {'max_depth': 3, 'min_child_weight': 1, 'learning_rate': 0.029999999999999999}\n",
      "Score: 0.72093, Params: {'max_depth': 4, 'min_child_weight': 1, 'learning_rate': 0.029999999999999999}\n",
      "Score: 0.73981, Params: {'max_depth': 5, 'min_child_weight': 1, 'learning_rate': 0.029999999999999999}\n",
      "Score: 0.75814, Params: {'max_depth': 6, 'min_child_weight': 1, 'learning_rate': 0.029999999999999999}\n",
      "Score: 0.77747, Params: {'max_depth': 7, 'min_child_weight': 1, 'learning_rate': 0.029999999999999999}\n",
      "Score: 0.70419, Params: {'max_depth': 3, 'min_child_weight': 2, 'learning_rate': 0.029999999999999999}\n",
      "Score: 0.72019, Params: {'max_depth': 4, 'min_child_weight': 2, 'learning_rate': 0.029999999999999999}\n",
      "Score: 0.73956, Params: {'max_depth': 5, 'min_child_weight': 2, 'learning_rate': 0.029999999999999999}\n",
      "Score: 0.75775, Params: {'max_depth': 6, 'min_child_weight': 2, 'learning_rate': 0.029999999999999999}\n",
      "Score: 0.77503, Params: {'max_depth': 7, 'min_child_weight': 2, 'learning_rate': 0.029999999999999999}\n",
      "Score: 0.70449, Params: {'max_depth': 3, 'min_child_weight': 3, 'learning_rate': 0.029999999999999999}\n",
      "Score: 0.72019, Params: {'max_depth': 4, 'min_child_weight': 3, 'learning_rate': 0.029999999999999999}\n",
      "Score: 0.73897, Params: {'max_depth': 5, 'min_child_weight': 3, 'learning_rate': 0.029999999999999999}\n",
      "Score: 0.75700, Params: {'max_depth': 6, 'min_child_weight': 3, 'learning_rate': 0.029999999999999999}\n",
      "Score: 0.77443, Params: {'max_depth': 7, 'min_child_weight': 3, 'learning_rate': 0.029999999999999999}\n",
      "Score: 0.70444, Params: {'max_depth': 3, 'min_child_weight': 4, 'learning_rate': 0.029999999999999999}\n",
      "Score: 0.72043, Params: {'max_depth': 4, 'min_child_weight': 4, 'learning_rate': 0.029999999999999999}\n",
      "Score: 0.73902, Params: {'max_depth': 5, 'min_child_weight': 4, 'learning_rate': 0.029999999999999999}\n",
      "Score: 0.75456, Params: {'max_depth': 6, 'min_child_weight': 4, 'learning_rate': 0.029999999999999999}\n",
      "Score: 0.77259, Params: {'max_depth': 7, 'min_child_weight': 4, 'learning_rate': 0.029999999999999999}\n",
      "Score: 0.71640, Params: {'max_depth': 3, 'min_child_weight': 1, 'learning_rate': 0.049999999999999996}\n",
      "Score: 0.73388, Params: {'max_depth': 4, 'min_child_weight': 1, 'learning_rate': 0.049999999999999996}\n",
      "Score: 0.75267, Params: {'max_depth': 5, 'min_child_weight': 1, 'learning_rate': 0.049999999999999996}\n",
      "Score: 0.77633, Params: {'max_depth': 6, 'min_child_weight': 1, 'learning_rate': 0.049999999999999996}\n",
      "Score: 0.79386, Params: {'max_depth': 7, 'min_child_weight': 1, 'learning_rate': 0.049999999999999996}\n",
      "Score: 0.71725, Params: {'max_depth': 3, 'min_child_weight': 2, 'learning_rate': 0.049999999999999996}\n",
      "Score: 0.73359, Params: {'max_depth': 4, 'min_child_weight': 2, 'learning_rate': 0.049999999999999996}\n",
      "Score: 0.75301, Params: {'max_depth': 5, 'min_child_weight': 2, 'learning_rate': 0.049999999999999996}\n",
      "Score: 0.77573, Params: {'max_depth': 6, 'min_child_weight': 2, 'learning_rate': 0.049999999999999996}\n",
      "Score: 0.79416, Params: {'max_depth': 7, 'min_child_weight': 2, 'learning_rate': 0.049999999999999996}\n",
      "Score: 0.71700, Params: {'max_depth': 3, 'min_child_weight': 3, 'learning_rate': 0.049999999999999996}\n",
      "Score: 0.73249, Params: {'max_depth': 4, 'min_child_weight': 3, 'learning_rate': 0.049999999999999996}\n",
      "Score: 0.75252, Params: {'max_depth': 5, 'min_child_weight': 3, 'learning_rate': 0.049999999999999996}\n",
      "Score: 0.77304, Params: {'max_depth': 6, 'min_child_weight': 3, 'learning_rate': 0.049999999999999996}\n",
      "Score: 0.78998, Params: {'max_depth': 7, 'min_child_weight': 3, 'learning_rate': 0.049999999999999996}\n",
      "Score: 0.71665, Params: {'max_depth': 3, 'min_child_weight': 4, 'learning_rate': 0.049999999999999996}\n",
      "Score: 0.73304, Params: {'max_depth': 4, 'min_child_weight': 4, 'learning_rate': 0.049999999999999996}\n",
      "Score: 0.75212, Params: {'max_depth': 5, 'min_child_weight': 4, 'learning_rate': 0.049999999999999996}\n",
      "Score: 0.77005, Params: {'max_depth': 6, 'min_child_weight': 4, 'learning_rate': 0.049999999999999996}\n",
      "Score: 0.78908, Params: {'max_depth': 7, 'min_child_weight': 4, 'learning_rate': 0.049999999999999996}\n",
      "Score: 0.72462, Params: {'max_depth': 3, 'min_child_weight': 1, 'learning_rate': 0.069999999999999993}\n",
      "Score: 0.74280, Params: {'max_depth': 4, 'min_child_weight': 1, 'learning_rate': 0.069999999999999993}\n",
      "Score: 0.76537, Params: {'max_depth': 5, 'min_child_weight': 1, 'learning_rate': 0.069999999999999993}\n",
      "Score: 0.78749, Params: {'max_depth': 6, 'min_child_weight': 1, 'learning_rate': 0.069999999999999993}\n",
      "Score: 0.80686, Params: {'max_depth': 7, 'min_child_weight': 1, 'learning_rate': 0.069999999999999993}\n",
      "Score: 0.72542, Params: {'max_depth': 3, 'min_child_weight': 2, 'learning_rate': 0.069999999999999993}\n",
      "Score: 0.74220, Params: {'max_depth': 4, 'min_child_weight': 2, 'learning_rate': 0.069999999999999993}\n",
      "Score: 0.76442, Params: {'max_depth': 5, 'min_child_weight': 2, 'learning_rate': 0.069999999999999993}\n",
      "Score: 0.78529, Params: {'max_depth': 6, 'min_child_weight': 2, 'learning_rate': 0.069999999999999993}\n",
      "Score: 0.80517, Params: {'max_depth': 7, 'min_child_weight': 2, 'learning_rate': 0.069999999999999993}\n",
      "Score: 0.72422, Params: {'max_depth': 3, 'min_child_weight': 3, 'learning_rate': 0.069999999999999993}\n",
      "Score: 0.74280, Params: {'max_depth': 4, 'min_child_weight': 3, 'learning_rate': 0.069999999999999993}\n",
      "Score: 0.76377, Params: {'max_depth': 5, 'min_child_weight': 3, 'learning_rate': 0.069999999999999993}\n",
      "Score: 0.78325, Params: {'max_depth': 6, 'min_child_weight': 3, 'learning_rate': 0.069999999999999993}\n",
      "Score: 0.80228, Params: {'max_depth': 7, 'min_child_weight': 3, 'learning_rate': 0.069999999999999993}\n",
      "Score: 0.72392, Params: {'max_depth': 3, 'min_child_weight': 4, 'learning_rate': 0.069999999999999993}\n",
      "Score: 0.74235, Params: {'max_depth': 4, 'min_child_weight': 4, 'learning_rate': 0.069999999999999993}\n",
      "Score: 0.76323, Params: {'max_depth': 5, 'min_child_weight': 4, 'learning_rate': 0.069999999999999993}\n"
     ]
    }
   ],
   "source": [
    "model = XGBClassifier()\n",
    "griddata = {'max_depth':range(3,8),\n",
    "            'min_child_weight':range(1,5),\n",
    "            'learning_rate': np.arange(0.01,0.2,0.02)\n",
    "            }\n",
    "GCV = CustomGridCV(train_scale, y, model, accuracy_score, griddata)\n",
    "GCV.GridSearch()"
   ]
  },
  {
   "cell_type": "code",
   "execution_count": null,
   "metadata": {
    "collapsed": true
   },
   "outputs": [],
   "source": [
    "print(\"Best Params:\")\n",
    "print(GCV.Best())"
   ]
  },
  {
   "cell_type": "markdown",
   "metadata": {},
   "source": [
    "# Use SVM"
   ]
  },
  {
   "cell_type": "code",
   "execution_count": 7,
   "metadata": {
    "collapsed": true
   },
   "outputs": [],
   "source": [
    "from sklearn.preprocessing import StandardScaler\n",
    "scaler = StandardScaler()\n",
    "train_scale = scaler.fit_transform(train)\n",
    "y = target_cls"
   ]
  },
  {
   "cell_type": "code",
   "execution_count": 19,
   "metadata": {},
   "outputs": [],
   "source": [
    "from sklearn.svm import SVC\n",
    "from sklearn.model_selection import cross_val_score, cross_val_predict\n",
    "from sklearn.model_selection import  StratifiedKFold, KFold \n",
    "from sklearn.metrics import  accuracy_score, log_loss\n",
    "from sklearn import metrics\n",
    "#from sklearn import metrics"
   ]
  },
  {
   "cell_type": "code",
   "execution_count": 12,
   "metadata": {},
   "outputs": [
    {
     "ename": "NameError",
     "evalue": "name 'accuracy_score' is not defined",
     "output_type": "error",
     "traceback": [
      "\u001b[0;31m---------------------------------------------------------------------------\u001b[0m",
      "\u001b[0;31mNameError\u001b[0m                                 Traceback (most recent call last)",
      "\u001b[0;32m<ipython-input-12-8dda9d93cc24>\u001b[0m in \u001b[0;36m<module>\u001b[0;34m()\u001b[0m\n\u001b[1;32m      2\u001b[0m \u001b[0my_pred_svm\u001b[0m \u001b[0;34m=\u001b[0m \u001b[0mcross_val_predict\u001b[0m\u001b[0;34m(\u001b[0m\u001b[0mmodel_svm\u001b[0m\u001b[0;34m,\u001b[0m \u001b[0mtrain_scale\u001b[0m\u001b[0;34m,\u001b[0m \u001b[0my\u001b[0m\u001b[0;34m,\u001b[0m \u001b[0mcv\u001b[0m\u001b[0;34m=\u001b[0m\u001b[0;36m5\u001b[0m\u001b[0;34m)\u001b[0m\u001b[0;34m\u001b[0m\u001b[0m\n\u001b[1;32m      3\u001b[0m \u001b[0;31m#print(metrics.classification_report(y, y_pred_svm))\u001b[0m\u001b[0;34m\u001b[0m\u001b[0;34m\u001b[0m\u001b[0m\n\u001b[0;32m----> 4\u001b[0;31m \u001b[0mprint\u001b[0m\u001b[0;34m(\u001b[0m\u001b[0maccuracy_score\u001b[0m\u001b[0;34m(\u001b[0m\u001b[0my\u001b[0m\u001b[0;34m,\u001b[0m \u001b[0my_pred_svm\u001b[0m\u001b[0;34m)\u001b[0m\u001b[0;34m)\u001b[0m\u001b[0;34m\u001b[0m\u001b[0m\n\u001b[0m",
      "\u001b[0;31mNameError\u001b[0m: name 'accuracy_score' is not defined"
     ]
    }
   ],
   "source": [
    "model_svm = SVC(kernel='rbf', C=100, gamma=1e-8, random_state=0)\n",
    "y_pred_svm = cross_val_predict(model_svm, train_scale, y, cv=5)"
   ]
  },
  {
   "cell_type": "code",
   "execution_count": 20,
   "metadata": {},
   "outputs": [
    {
     "name": "stdout",
     "output_type": "stream",
     "text": [
      "0.630517086779\n",
      "             precision    recall  f1-score   support\n",
      "\n",
      "          1       0.63      1.00      0.77     12657\n",
      "          2       0.00      0.00      0.00      6051\n",
      "          3       0.00      0.00      0.00      1106\n",
      "          4       0.00      0.00      0.00       241\n",
      "          5       0.00      0.00      0.00        19\n",
      "\n",
      "avg / total       0.40      0.63      0.49     20074\n",
      "\n"
     ]
    }
   ],
   "source": [
    "print(accuracy_score(y, y_pred_svm))\n",
    "print(metrics.classification_report(y, y_pred_svm))"
   ]
  },
  {
   "cell_type": "code",
   "execution_count": null,
   "metadata": {
    "collapsed": true
   },
   "outputs": [],
   "source": [
    "model_svm = SVC(kernel='linear', C=10, gamma=1e-8, random_state=0)\n",
    "y_pred_svm = cross_val_predict(model_svm, train, y, cv=5)\n",
    "#print(metrics.classification_report(y, y_pred_svm))\n",
    "print(accuracy_score(y, y_pred_svm))"
   ]
  },
  {
   "cell_type": "code",
   "execution_count": 23,
   "metadata": {},
   "outputs": [
    {
     "name": "stdout",
     "output_type": "stream",
     "text": [
      "Score: 0.63052, Params: {'C': 1.0}\n",
      "Score: 0.63052, Params: {'C': 10.0}\n",
      "Score: 0.63052, Params: {'C': 100.0}\n",
      "Score: 0.63052, Params: {'C': 1000.0}\n"
     ]
    }
   ],
   "source": [
    "model = SVC(kernel='rbf', gamma=1e-8, random_state=0)\n",
    "griddata = {'C':[1.0,10.0,100.0,1e3]}\n",
    "GCV = CustomGridCV(train_scale, y, model, accuracy_score, griddata)\n",
    "GCV.GridSearch()"
   ]
  },
  {
   "cell_type": "code",
   "execution_count": null,
   "metadata": {
    "collapsed": true
   },
   "outputs": [],
   "source": [
    "n_folds = 5\n",
    "skf = StratifiedKFold(folds, shuffle=True, random_state=99)\n",
    "for i, (train_index,valid_index) in enumerate(skf.split(train, y)):\n",
    "    print(\"=====Round {0}/{1}=====\".format(i+1,n_folds))\n",
    "    x_train, x_valid = train[train_index], train[valid_index]\n",
    "    y_train, y_valid = y[train_index], y[valid_index]\n",
    "    model_svm = SVC(kernel='rbf', C=5, gamma=1e-8, random_state=0)\n",
    "   \n"
   ]
  },
  {
   "cell_type": "code",
   "execution_count": null,
   "metadata": {
    "collapsed": true
   },
   "outputs": [],
   "source": [
    "  watchlist = [(xgb.DMatrix(x_train,y_train), 'train'), (xgb.DMatrix(x_valid, y_valid), 'valid')]\n",
    "    model = xgb.train(params, xgb.DMatrix(x_train,y_train), 1000, watchlist, feval=gini_xgb,\n",
    "                    maximize=True, verbose_eval=100,  early_stopping_rounds=100)"
   ]
  },
  {
   "cell_type": "code",
   "execution_count": null,
   "metadata": {
    "collapsed": true
   },
   "outputs": [],
   "source": []
  },
  {
   "cell_type": "code",
   "execution_count": 259,
   "metadata": {
    "collapsed": true
   },
   "outputs": [],
   "source": [
    "importances = model.feature_importances_\n",
    "indices = np.argsort(importances)[::-1]"
   ]
  },
  {
   "cell_type": "code",
   "execution_count": 260,
   "metadata": {},
   "outputs": [
    {
     "data": {
      "text/plain": [
       "array([76, 74, 75, 77, 79,  3,  2, 81,  0, 30,  1, 78, 35, 73, 72, 29, 20,\n",
       "        6,  8, 45, 10, 41, 27, 80, 13,  5, 26, 16, 17, 11, 33, 71, 14,  4,\n",
       "       39, 22, 70, 12,  9, 36, 48, 37, 28, 32, 25, 31, 46, 55, 66, 19, 42,\n",
       "       56, 24, 21, 60, 38, 49, 40, 34, 43, 54, 65, 23, 69, 15, 18,  7, 67,\n",
       "       51, 58, 52, 68, 44, 64, 62, 63, 50, 61, 53, 59, 57, 47])"
      ]
     },
     "execution_count": 260,
     "metadata": {},
     "output_type": "execute_result"
    }
   ],
   "source": [
    "indices"
   ]
  },
  {
   "cell_type": "code",
   "execution_count": 230,
   "metadata": {},
   "outputs": [
    {
     "name": "stdout",
     "output_type": "stream",
     "text": [
      "Feature ranking:\n",
      "1. PRES (0.142529)\n",
      "2. DEWP (0.133333)\n",
      "3. month (0.128736)\n",
      "4. day (0.119540)\n",
      "5. HUMI (0.088998)\n",
      "6. TEMP (0.078489)\n",
      "7. Iws (0.072906)\n",
      "8. hour (0.048604)\n",
      "9. Iprec (0.040066)\n",
      "10. cbwd (0.030870)\n",
      "11. 2015 (0.030542)\n",
      "12. 4.0 (0.019704)\n",
      "13. 2.0 (0.014450)\n",
      "14. 2014 (0.013465)\n",
      "15. precipitation (0.012479)\n",
      "16. 2013 (0.010181)\n",
      "17. 3.0 (0.007882)\n",
      "18. 1.0 (0.007225)\n"
     ]
    }
   ],
   "source": [
    "# Print the feature ranking\n",
    "print(\"Feature ranking:\")\n",
    "\n",
    "for f in range(len(features)):\n",
    "    print(\"%d. %s (%f)\" % (f + 1, features[indices[f]], importances[indices[f]]))"
   ]
  },
  {
   "cell_type": "code",
   "execution_count": null,
   "metadata": {
    "collapsed": true
   },
   "outputs": [],
   "source": []
  },
  {
   "cell_type": "code",
   "execution_count": null,
   "metadata": {
    "collapsed": true
   },
   "outputs": [],
   "source": []
  }
 ],
 "metadata": {
  "kernelspec": {
   "display_name": "Python 3",
   "language": "python",
   "name": "python3"
  },
  "language_info": {
   "codemirror_mode": {
    "name": "ipython",
    "version": 3
   },
   "file_extension": ".py",
   "mimetype": "text/x-python",
   "name": "python",
   "nbconvert_exporter": "python",
   "pygments_lexer": "ipython3",
   "version": "3.7.3"
  }
 },
 "nbformat": 4,
 "nbformat_minor": 2
}
